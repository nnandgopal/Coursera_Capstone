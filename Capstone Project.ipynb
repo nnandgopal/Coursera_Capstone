{
    "cells": [
        {
            "metadata": {
                "collapsed": true
            },
            "cell_type": "markdown",
            "source": "# Identifying the best location in LA for a new Indian restaurant\n\n## Background\nAs an Indian living in the US, I often find myself looking for good food that reminds me of home. This is not an isolated case. On numerous accounts, I have seen my friends and family go out of their way to find a good Indian restaurant. I would like to use location data as well as some demographic data, to reccomend a location in LA that is a strong market for a restaurant serving Indian food. To do this, I will be categorizing the neighborhoods in LA, and then identifying restaurants, and specifically Indian restaurants. I will also use 2010 census data to identify areas with higher population of people with Indian restaurants with low ratings, for the location of the new restaurant. \n\n## Data \nI will be using the foursquare API, and cesus data from 2010. \n\n\n"
        }
    ],
    "metadata": {
        "kernelspec": {
            "name": "python3",
            "display_name": "Python 3.6",
            "language": "python"
        },
        "language_info": {
            "name": "python",
            "version": "3.6.8",
            "mimetype": "text/x-python",
            "codemirror_mode": {
                "name": "ipython",
                "version": 3
            },
            "pygments_lexer": "ipython3",
            "nbconvert_exporter": "python",
            "file_extension": ".py"
        }
    },
    "nbformat": 4,
    "nbformat_minor": 1
}